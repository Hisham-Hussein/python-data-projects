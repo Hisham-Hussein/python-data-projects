{
 "cells": [
  {
   "cell_type": "markdown",
   "metadata": {},
   "source": [
    "# Love Movies? Let's Scrape them All !"
   ]
  },
  {
   "cell_type": "markdown",
   "metadata": {},
   "source": [
    "## Introduction"
   ]
  },
  {
   "cell_type": "markdown",
   "metadata": {},
   "source": [
    "This Project invloves scraping Movies information from the popular IMDB website. In particular:\n",
    "- A list of the top 100 movies\n",
    "- for each of these movies, include detailed information about the movie (obtained from the webpage of the movie)\n",
    "- Arrange all this information in a tidy pandas data frame and export it to an Excell (or .CSV) file"
   ]
  },
  {
   "cell_type": "code",
   "execution_count": 1,
   "metadata": {
    "collapsed": true
   },
   "outputs": [],
   "source": [
    "from selenium import webdriver\n",
    "from bs4 import BeautifulSoup\n",
    "import os\n",
    "import numpy as np\n",
    "import pandas as pd\n",
    "import re"
   ]
  },
  {
   "cell_type": "code",
   "execution_count": 2,
   "metadata": {
    "collapsed": true
   },
   "outputs": [],
   "source": [
    "proj_dir = r'D:\\Work\\Upwork\\Giselle\\webSrcapingProjs'"
   ]
  },
  {
   "cell_type": "markdown",
   "metadata": {},
   "source": [
    "## Get a DF for all best films ever"
   ]
  },
  {
   "cell_type": "code",
   "execution_count": 126,
   "metadata": {
    "collapsed": true
   },
   "outputs": [],
   "source": [
    "def get_best_movies(url):\n",
    "    phantomJS_path = os.path.join(proj_dir, r\"phantomjs-2.1.1-windows\\bin\\phantomjs.exe\")\n",
    "    driver = webdriver.PhantomJS(phantomJS_path)\n",
    "    \n",
    "    driver.get(url)\n",
    "    \n",
    "    html_page = driver.page_source\n",
    "    \n",
    "    soub = BeautifulSoup(html_page, 'lxml')\n",
    "    \n",
    "    movie_table = soub.find('tbody', class_='lister-list')\n",
    "    \n",
    "    # initiate the df\n",
    "    df = list()\n",
    "    for movie in movie_table.find_all('td', class_='titleColumn'):\n",
    "        # get the movie text and remove some extra spaces and end of line characters\n",
    "        movie_title = re.sub(r'\\s{6}|\\n', '', movie.get_text().strip())\n",
    "        \n",
    "        # get movie link\n",
    "        movie_link = \"http://www.imdb.com\" + movie.find('a')['href']\n",
    "         \n",
    "        # separate the year from the movie title from its rank\n",
    "        m = re.search(r'(?P<rank>\\d{1,3})\\.\\s*(?P<title>.*?)\\((?P<year>\\d{4})', movie_title)\n",
    "        if m:\n",
    "            df.append([m.group('rank'), m.group('title'), m.group('year'), movie_link])\n",
    "    \n",
    "    driver.quit()\n",
    "    \n",
    "    top_movies = pd.DataFrame(df, columns = ['rank', 'title', 'year', 'link'])\n",
    "    \n",
    "    # convert rank, year columns to numeric \n",
    "    top_movies[['rank', 'year']] = top_movies[['rank','year']].apply(pd.to_numeric, axis='columns')\n",
    "    \n",
    "    return top_movies"
   ]
  },
  {
   "cell_type": "code",
   "execution_count": 136,
   "metadata": {
    "collapsed": true
   },
   "outputs": [],
   "source": [
    "top_movies_url = \"http://www.imdb.com/chart/top?ref_=nv_mv_250_6\"\n",
    "top_movies = get_best_movies(top_movies_url)\n"
   ]
  },
  {
   "cell_type": "code",
   "execution_count": 137,
   "metadata": {},
   "outputs": [
    {
     "data": {
      "text/html": [
       "<div>\n",
       "<table border=\"1\" class=\"dataframe\">\n",
       "  <thead>\n",
       "    <tr style=\"text-align: right;\">\n",
       "      <th></th>\n",
       "      <th>rank</th>\n",
       "      <th>title</th>\n",
       "      <th>year</th>\n",
       "      <th>link</th>\n",
       "    </tr>\n",
       "  </thead>\n",
       "  <tbody>\n",
       "    <tr>\n",
       "      <th>0</th>\n",
       "      <td>1</td>\n",
       "      <td>The Shawshank Redemption</td>\n",
       "      <td>1994</td>\n",
       "      <td>http://www.imdb.com/title/tt0111161/?pf_rd_m=A...</td>\n",
       "    </tr>\n",
       "    <tr>\n",
       "      <th>1</th>\n",
       "      <td>2</td>\n",
       "      <td>The Godfather</td>\n",
       "      <td>1972</td>\n",
       "      <td>http://www.imdb.com/title/tt0068646/?pf_rd_m=A...</td>\n",
       "    </tr>\n",
       "    <tr>\n",
       "      <th>2</th>\n",
       "      <td>3</td>\n",
       "      <td>The Godfather: Part II</td>\n",
       "      <td>1974</td>\n",
       "      <td>http://www.imdb.com/title/tt0071562/?pf_rd_m=A...</td>\n",
       "    </tr>\n",
       "    <tr>\n",
       "      <th>3</th>\n",
       "      <td>4</td>\n",
       "      <td>The Dark Knight</td>\n",
       "      <td>2008</td>\n",
       "      <td>http://www.imdb.com/title/tt0468569/?pf_rd_m=A...</td>\n",
       "    </tr>\n",
       "    <tr>\n",
       "      <th>4</th>\n",
       "      <td>5</td>\n",
       "      <td>12 Angry Men</td>\n",
       "      <td>1957</td>\n",
       "      <td>http://www.imdb.com/title/tt0050083/?pf_rd_m=A...</td>\n",
       "    </tr>\n",
       "  </tbody>\n",
       "</table>\n",
       "</div>"
      ],
      "text/plain": [
       "   rank                     title  year  \\\n",
       "0     1  The Shawshank Redemption  1994   \n",
       "1     2             The Godfather  1972   \n",
       "2     3    The Godfather: Part II  1974   \n",
       "3     4           The Dark Knight  2008   \n",
       "4     5              12 Angry Men  1957   \n",
       "\n",
       "                                                link  \n",
       "0  http://www.imdb.com/title/tt0111161/?pf_rd_m=A...  \n",
       "1  http://www.imdb.com/title/tt0068646/?pf_rd_m=A...  \n",
       "2  http://www.imdb.com/title/tt0071562/?pf_rd_m=A...  \n",
       "3  http://www.imdb.com/title/tt0468569/?pf_rd_m=A...  \n",
       "4  http://www.imdb.com/title/tt0050083/?pf_rd_m=A...  "
      ]
     },
     "execution_count": 137,
     "metadata": {},
     "output_type": "execute_result"
    }
   ],
   "source": [
    "top_movies.head()"
   ]
  },
  {
   "cell_type": "code",
   "execution_count": 138,
   "metadata": {},
   "outputs": [
    {
     "data": {
      "text/html": [
       "<div>\n",
       "<table border=\"1\" class=\"dataframe\">\n",
       "  <thead>\n",
       "    <tr style=\"text-align: right;\">\n",
       "      <th></th>\n",
       "      <th>rank</th>\n",
       "      <th>title</th>\n",
       "      <th>year</th>\n",
       "      <th>link</th>\n",
       "    </tr>\n",
       "  </thead>\n",
       "  <tbody>\n",
       "    <tr>\n",
       "      <th>245</th>\n",
       "      <td>246</td>\n",
       "      <td>Gangs of Wasseypur</td>\n",
       "      <td>2012</td>\n",
       "      <td>http://www.imdb.com/title/tt1954470/?pf_rd_m=A...</td>\n",
       "    </tr>\n",
       "    <tr>\n",
       "      <th>246</th>\n",
       "      <td>247</td>\n",
       "      <td>Dog Day Afternoon</td>\n",
       "      <td>1975</td>\n",
       "      <td>http://www.imdb.com/title/tt0072890/?pf_rd_m=A...</td>\n",
       "    </tr>\n",
       "    <tr>\n",
       "      <th>247</th>\n",
       "      <td>248</td>\n",
       "      <td>What Ever Happened to Baby Jane?</td>\n",
       "      <td>1962</td>\n",
       "      <td>http://www.imdb.com/title/tt0056687/?pf_rd_m=A...</td>\n",
       "    </tr>\n",
       "    <tr>\n",
       "      <th>248</th>\n",
       "      <td>249</td>\n",
       "      <td>Pirates of the Caribbean: The Curse of the Bla...</td>\n",
       "      <td>2003</td>\n",
       "      <td>http://www.imdb.com/title/tt0325980/?pf_rd_m=A...</td>\n",
       "    </tr>\n",
       "    <tr>\n",
       "      <th>249</th>\n",
       "      <td>250</td>\n",
       "      <td>PK</td>\n",
       "      <td>2014</td>\n",
       "      <td>http://www.imdb.com/title/tt2338151/?pf_rd_m=A...</td>\n",
       "    </tr>\n",
       "  </tbody>\n",
       "</table>\n",
       "</div>"
      ],
      "text/plain": [
       "     rank                                              title  year  \\\n",
       "245   246                                 Gangs of Wasseypur  2012   \n",
       "246   247                                  Dog Day Afternoon  1975   \n",
       "247   248                   What Ever Happened to Baby Jane?  1962   \n",
       "248   249  Pirates of the Caribbean: The Curse of the Bla...  2003   \n",
       "249   250                                                 PK  2014   \n",
       "\n",
       "                                                  link  \n",
       "245  http://www.imdb.com/title/tt1954470/?pf_rd_m=A...  \n",
       "246  http://www.imdb.com/title/tt0072890/?pf_rd_m=A...  \n",
       "247  http://www.imdb.com/title/tt0056687/?pf_rd_m=A...  \n",
       "248  http://www.imdb.com/title/tt0325980/?pf_rd_m=A...  \n",
       "249  http://www.imdb.com/title/tt2338151/?pf_rd_m=A...  "
      ]
     },
     "execution_count": 138,
     "metadata": {},
     "output_type": "execute_result"
    }
   ],
   "source": [
    "top_movies.tail()"
   ]
  },
  {
   "cell_type": "code",
   "execution_count": 139,
   "metadata": {},
   "outputs": [
    {
     "data": {
      "text/html": [
       "<div>\n",
       "<table border=\"1\" class=\"dataframe\">\n",
       "  <thead>\n",
       "    <tr style=\"text-align: right;\">\n",
       "      <th></th>\n",
       "      <th>rank</th>\n",
       "      <th>title</th>\n",
       "      <th>year</th>\n",
       "      <th>link</th>\n",
       "    </tr>\n",
       "  </thead>\n",
       "  <tbody>\n",
       "    <tr>\n",
       "      <th>73</th>\n",
       "      <td>74</td>\n",
       "      <td>Dunkirk</td>\n",
       "      <td>2017</td>\n",
       "      <td>http://www.imdb.com/title/tt5013056/?pf_rd_m=A...</td>\n",
       "    </tr>\n",
       "    <tr>\n",
       "      <th>169</th>\n",
       "      <td>170</td>\n",
       "      <td>Logan</td>\n",
       "      <td>2017</td>\n",
       "      <td>http://www.imdb.com/title/tt3315342/?pf_rd_m=A...</td>\n",
       "    </tr>\n",
       "    <tr>\n",
       "      <th>203</th>\n",
       "      <td>204</td>\n",
       "      <td>Baby Driver</td>\n",
       "      <td>2017</td>\n",
       "      <td>http://www.imdb.com/title/tt3890160/?pf_rd_m=A...</td>\n",
       "    </tr>\n",
       "    <tr>\n",
       "      <th>70</th>\n",
       "      <td>71</td>\n",
       "      <td>Dangal</td>\n",
       "      <td>2016</td>\n",
       "      <td>http://www.imdb.com/title/tt5074352/?pf_rd_m=A...</td>\n",
       "    </tr>\n",
       "    <tr>\n",
       "      <th>84</th>\n",
       "      <td>85</td>\n",
       "      <td>Your Name</td>\n",
       "      <td>2016</td>\n",
       "      <td>http://www.imdb.com/title/tt5311514/?pf_rd_m=A...</td>\n",
       "    </tr>\n",
       "    <tr>\n",
       "      <th>153</th>\n",
       "      <td>154</td>\n",
       "      <td>La La Land</td>\n",
       "      <td>2016</td>\n",
       "      <td>http://www.imdb.com/title/tt3783958/?pf_rd_m=A...</td>\n",
       "    </tr>\n",
       "    <tr>\n",
       "      <th>168</th>\n",
       "      <td>169</td>\n",
       "      <td>Hacksaw Ridge</td>\n",
       "      <td>2016</td>\n",
       "      <td>http://www.imdb.com/title/tt2119532/?pf_rd_m=A...</td>\n",
       "    </tr>\n",
       "    <tr>\n",
       "      <th>131</th>\n",
       "      <td>132</td>\n",
       "      <td>Inside Out</td>\n",
       "      <td>2015</td>\n",
       "      <td>http://www.imdb.com/title/tt2096673/?pf_rd_m=A...</td>\n",
       "    </tr>\n",
       "    <tr>\n",
       "      <th>139</th>\n",
       "      <td>140</td>\n",
       "      <td>Room</td>\n",
       "      <td>2015</td>\n",
       "      <td>http://www.imdb.com/title/tt3170832/?pf_rd_m=A...</td>\n",
       "    </tr>\n",
       "    <tr>\n",
       "      <th>197</th>\n",
       "      <td>198</td>\n",
       "      <td>Mad Max: Fury Road</td>\n",
       "      <td>2015</td>\n",
       "      <td>http://www.imdb.com/title/tt1392190/?pf_rd_m=A...</td>\n",
       "    </tr>\n",
       "  </tbody>\n",
       "</table>\n",
       "</div>"
      ],
      "text/plain": [
       "     rank               title  year  \\\n",
       "73     74             Dunkirk  2017   \n",
       "169   170               Logan  2017   \n",
       "203   204         Baby Driver  2017   \n",
       "70     71              Dangal  2016   \n",
       "84     85           Your Name  2016   \n",
       "153   154          La La Land  2016   \n",
       "168   169       Hacksaw Ridge  2016   \n",
       "131   132          Inside Out  2015   \n",
       "139   140                Room  2015   \n",
       "197   198  Mad Max: Fury Road  2015   \n",
       "\n",
       "                                                  link  \n",
       "73   http://www.imdb.com/title/tt5013056/?pf_rd_m=A...  \n",
       "169  http://www.imdb.com/title/tt3315342/?pf_rd_m=A...  \n",
       "203  http://www.imdb.com/title/tt3890160/?pf_rd_m=A...  \n",
       "70   http://www.imdb.com/title/tt5074352/?pf_rd_m=A...  \n",
       "84   http://www.imdb.com/title/tt5311514/?pf_rd_m=A...  \n",
       "153  http://www.imdb.com/title/tt3783958/?pf_rd_m=A...  \n",
       "168  http://www.imdb.com/title/tt2119532/?pf_rd_m=A...  \n",
       "131  http://www.imdb.com/title/tt2096673/?pf_rd_m=A...  \n",
       "139  http://www.imdb.com/title/tt3170832/?pf_rd_m=A...  \n",
       "197  http://www.imdb.com/title/tt1392190/?pf_rd_m=A...  "
      ]
     },
     "execution_count": 139,
     "metadata": {},
     "output_type": "execute_result"
    }
   ],
   "source": [
    "# let's see the most recent 10 movies of the list (i.e: sort according to year, break ties with rank)\n",
    "top_movies.sort_values(['year', 'rank'], ascending=[False, True]).head(10)"
   ]
  },
  {
   "cell_type": "markdown",
   "metadata": {},
   "source": [
    "## Step (2) Get Detail Information for One Movie"
   ]
  },
  {
   "cell_type": "code",
   "execution_count": 205,
   "metadata": {
    "collapsed": true
   },
   "outputs": [],
   "source": [
    "def get_movie_details(movie_record, driver):\n",
    "    \n",
    "    driver.get(movie_record['link'])\n",
    "    \n",
    "    html_page = driver.page_source\n",
    "    \n",
    "    soup = BeautifulSoup(html_page, 'lxml')\n",
    "    \n",
    "    movie_record['rating'] = float(soup.find('span', itemprop='ratingValue').get_text().strip())\n",
    "    \n",
    "    plot_summary = soup.find('div', class_='plot_summary')\n",
    "    \n",
    "    movie_record['summary_text'] = plot_summary.find('div', itemprop='description').get_text().strip()\n",
    "    \n",
    "    movie_record['director'] = plot_summary.find('span', itemprop='director').get_text().strip()\n",
    "    \n",
    "    movie_record['writers'] = [writer.get_text().strip() for writer in plot_summary.find_all('span', itemprop='creator')]\n",
    "    \n",
    "    # the next line is just for cleaning the writers column, as it contains extra comma\n",
    "    movie_record['writers'] = [re.sub(r'(\\)),', lambda m: m.group(1), writer) for writer in movie_record['writers']]\n",
    "    \n",
    "    movie_record['stars'] = [star.get_text().strip() for star in plot_summary.find_all('span', itemprop='actors')]\n",
    "    \n",
    "    # the next line is just for cleaning the stars column, as it contains extra comma\n",
    "    movie_record['stars'] = [re.sub(r'(\\w+),', lambda m: m.group(1), star) for star in movie_record['stars']]\n",
    "\n",
    "    \n",
    "    return movie_record"
   ]
  },
  {
   "cell_type": "code",
   "execution_count": 206,
   "metadata": {
    "collapsed": true
   },
   "outputs": [],
   "source": [
    "phantomJS_path = os.path.join(proj_dir, r\"phantomjs-2.1.1-windows\\bin\\phantomjs.exe\")\n",
    "driver = webdriver.PhantomJS(phantomJS_path)"
   ]
  },
  {
   "cell_type": "code",
   "execution_count": 207,
   "metadata": {},
   "outputs": [
    {
     "name": "stderr",
     "output_type": "stream",
     "text": [
      "C:\\toolkits\\anaconda3-4.2.0\\lib\\site-packages\\ipykernel\\__main__.py:9: SettingWithCopyWarning: \n",
      "A value is trying to be set on a copy of a slice from a DataFrame\n",
      "\n",
      "See the caveats in the documentation: http://pandas.pydata.org/pandas-docs/stable/indexing.html#indexing-view-versus-copy\n",
      "C:\\toolkits\\anaconda3-4.2.0\\lib\\site-packages\\pandas\\core\\series.py:729: SettingWithCopyWarning: \n",
      "A value is trying to be set on a copy of a slice from a DataFrame\n",
      "\n",
      "See the caveats in the documentation: http://pandas.pydata.org/pandas-docs/stable/indexing.html#indexing-view-versus-copy\n",
      "  self.loc[key] = value\n",
      "C:\\toolkits\\anaconda3-4.2.0\\lib\\site-packages\\ipykernel\\__main__.py:13: SettingWithCopyWarning: \n",
      "A value is trying to be set on a copy of a slice from a DataFrame\n",
      "\n",
      "See the caveats in the documentation: http://pandas.pydata.org/pandas-docs/stable/indexing.html#indexing-view-versus-copy\n",
      "C:\\toolkits\\anaconda3-4.2.0\\lib\\site-packages\\ipykernel\\__main__.py:15: SettingWithCopyWarning: \n",
      "A value is trying to be set on a copy of a slice from a DataFrame\n",
      "\n",
      "See the caveats in the documentation: http://pandas.pydata.org/pandas-docs/stable/indexing.html#indexing-view-versus-copy\n",
      "C:\\toolkits\\anaconda3-4.2.0\\lib\\site-packages\\ipykernel\\__main__.py:17: SettingWithCopyWarning: \n",
      "A value is trying to be set on a copy of a slice from a DataFrame\n",
      "\n",
      "See the caveats in the documentation: http://pandas.pydata.org/pandas-docs/stable/indexing.html#indexing-view-versus-copy\n",
      "C:\\toolkits\\anaconda3-4.2.0\\lib\\site-packages\\ipykernel\\__main__.py:20: SettingWithCopyWarning: \n",
      "A value is trying to be set on a copy of a slice from a DataFrame\n",
      "\n",
      "See the caveats in the documentation: http://pandas.pydata.org/pandas-docs/stable/indexing.html#indexing-view-versus-copy\n",
      "C:\\toolkits\\anaconda3-4.2.0\\lib\\site-packages\\ipykernel\\__main__.py:22: SettingWithCopyWarning: \n",
      "A value is trying to be set on a copy of a slice from a DataFrame\n",
      "\n",
      "See the caveats in the documentation: http://pandas.pydata.org/pandas-docs/stable/indexing.html#indexing-view-versus-copy\n",
      "C:\\toolkits\\anaconda3-4.2.0\\lib\\site-packages\\ipykernel\\__main__.py:25: SettingWithCopyWarning: \n",
      "A value is trying to be set on a copy of a slice from a DataFrame\n",
      "\n",
      "See the caveats in the documentation: http://pandas.pydata.org/pandas-docs/stable/indexing.html#indexing-view-versus-copy\n"
     ]
    }
   ],
   "source": [
    "full_movie_record = get_movie_details(top_movies.iloc[0, :], driver)\n"
   ]
  },
  {
   "cell_type": "code",
   "execution_count": 214,
   "metadata": {},
   "outputs": [
    {
     "data": {
      "text/plain": [
       "rank                                                            1\n",
       "title                                    The Shawshank Redemption\n",
       "year                                                         1994\n",
       "link            http://www.imdb.com/title/tt0111161/?pf_rd_m=A...\n",
       "rating                                                        9.3\n",
       "summary_text    Two imprisoned men bond over a number of years...\n",
       "director                                           Frank Darabont\n",
       "writers         [Stephen King (short story \"Rita Hayworth and ...\n",
       "stars                   [Tim Robbins, Morgan Freeman, Bob Gunton]\n",
       "Name: 0, dtype: object"
      ]
     },
     "execution_count": 214,
     "metadata": {},
     "output_type": "execute_result"
    }
   ],
   "source": [
    "full_movie_record"
   ]
  },
  {
   "cell_type": "code",
   "execution_count": 215,
   "metadata": {
    "collapsed": true
   },
   "outputs": [],
   "source": [
    "driver.quit()"
   ]
  },
  {
   "cell_type": "markdown",
   "metadata": {},
   "source": [
    "## Step (3) Get Full Details of all movies"
   ]
  },
  {
   "cell_type": "code",
   "execution_count": 216,
   "metadata": {
    "collapsed": true
   },
   "outputs": [],
   "source": [
    "def get_best_movies_details(movies_df):\n",
    "    \n",
    "    phantomJS_path = os.path.join(proj_dir, r\"phantomjs-2.1.1-windows\\bin\\phantomjs.exe\")\n",
    "    \n",
    "    driver = webdriver.PhantomJS(phantomJS_path)\n",
    "    \n",
    "    movies_df = movies_df.apply(lambda x: get_movie_details(x, driver), axis='columns')\n",
    "    \n",
    "    driver.quit()\n",
    "    \n",
    "    return movies_df"
   ]
  },
  {
   "cell_type": "code",
   "execution_count": 217,
   "metadata": {
    "collapsed": true
   },
   "outputs": [],
   "source": [
    "full_movies_df = get_best_movies_details( get_best_movies(top_movies_url)[0:5] )"
   ]
  },
  {
   "cell_type": "code",
   "execution_count": 218,
   "metadata": {},
   "outputs": [
    {
     "data": {
      "text/html": [
       "<div>\n",
       "<table border=\"1\" class=\"dataframe\">\n",
       "  <thead>\n",
       "    <tr style=\"text-align: right;\">\n",
       "      <th></th>\n",
       "      <th>rank</th>\n",
       "      <th>title</th>\n",
       "      <th>year</th>\n",
       "      <th>link</th>\n",
       "      <th>rating</th>\n",
       "      <th>summary_text</th>\n",
       "      <th>director</th>\n",
       "      <th>writers</th>\n",
       "      <th>stars</th>\n",
       "    </tr>\n",
       "  </thead>\n",
       "  <tbody>\n",
       "    <tr>\n",
       "      <th>0</th>\n",
       "      <td>1</td>\n",
       "      <td>The Shawshank Redemption</td>\n",
       "      <td>1994</td>\n",
       "      <td>http://www.imdb.com/title/tt0111161/?pf_rd_m=A...</td>\n",
       "      <td>9.3</td>\n",
       "      <td>Two imprisoned men bond over a number of years...</td>\n",
       "      <td>Frank Darabont</td>\n",
       "      <td>[Stephen King (short story \"Rita Hayworth and ...</td>\n",
       "      <td>[Tim Robbins, Morgan Freeman, Bob Gunton]</td>\n",
       "    </tr>\n",
       "    <tr>\n",
       "      <th>1</th>\n",
       "      <td>2</td>\n",
       "      <td>The Godfather</td>\n",
       "      <td>1972</td>\n",
       "      <td>http://www.imdb.com/title/tt0068646/?pf_rd_m=A...</td>\n",
       "      <td>9.2</td>\n",
       "      <td>The aging patriarch of an organized crime dyna...</td>\n",
       "      <td>Francis Ford Coppola</td>\n",
       "      <td>[Mario Puzo (screenplay), Francis Ford Coppola...</td>\n",
       "      <td>[Marlon Brando, Al Pacino, James Caan]</td>\n",
       "    </tr>\n",
       "    <tr>\n",
       "      <th>2</th>\n",
       "      <td>3</td>\n",
       "      <td>The Godfather: Part II</td>\n",
       "      <td>1974</td>\n",
       "      <td>http://www.imdb.com/title/tt0071562/?pf_rd_m=A...</td>\n",
       "      <td>9.0</td>\n",
       "      <td>The early life and career of Vito Corleone in ...</td>\n",
       "      <td>Francis Ford Coppola</td>\n",
       "      <td>[Francis Ford Coppola (screenplay), Mario Puzo...</td>\n",
       "      <td>[Al Pacino, Robert De Niro, Robert Duvall]</td>\n",
       "    </tr>\n",
       "    <tr>\n",
       "      <th>3</th>\n",
       "      <td>4</td>\n",
       "      <td>The Dark Knight</td>\n",
       "      <td>2008</td>\n",
       "      <td>http://www.imdb.com/title/tt0468569/?pf_rd_m=A...</td>\n",
       "      <td>9.0</td>\n",
       "      <td>When the menace known as the Joker emerges fro...</td>\n",
       "      <td>Christopher Nolan</td>\n",
       "      <td>[Jonathan Nolan (screenplay), Christopher Nola...</td>\n",
       "      <td>[Christian Bale, Heath Ledger, Aaron Eckhart]</td>\n",
       "    </tr>\n",
       "    <tr>\n",
       "      <th>4</th>\n",
       "      <td>5</td>\n",
       "      <td>12 Angry Men</td>\n",
       "      <td>1957</td>\n",
       "      <td>http://www.imdb.com/title/tt0050083/?pf_rd_m=A...</td>\n",
       "      <td>8.9</td>\n",
       "      <td>A jury holdout attempts to prevent a miscarria...</td>\n",
       "      <td>Sidney Lumet</td>\n",
       "      <td>[Reginald Rose (story), Reginald Rose (screenp...</td>\n",
       "      <td>[Henry Fonda, Lee J. Cobb, Martin Balsam]</td>\n",
       "    </tr>\n",
       "  </tbody>\n",
       "</table>\n",
       "</div>"
      ],
      "text/plain": [
       "   rank                     title  year  \\\n",
       "0     1  The Shawshank Redemption  1994   \n",
       "1     2             The Godfather  1972   \n",
       "2     3    The Godfather: Part II  1974   \n",
       "3     4           The Dark Knight  2008   \n",
       "4     5              12 Angry Men  1957   \n",
       "\n",
       "                                                link  rating  \\\n",
       "0  http://www.imdb.com/title/tt0111161/?pf_rd_m=A...     9.3   \n",
       "1  http://www.imdb.com/title/tt0068646/?pf_rd_m=A...     9.2   \n",
       "2  http://www.imdb.com/title/tt0071562/?pf_rd_m=A...     9.0   \n",
       "3  http://www.imdb.com/title/tt0468569/?pf_rd_m=A...     9.0   \n",
       "4  http://www.imdb.com/title/tt0050083/?pf_rd_m=A...     8.9   \n",
       "\n",
       "                                        summary_text              director  \\\n",
       "0  Two imprisoned men bond over a number of years...        Frank Darabont   \n",
       "1  The aging patriarch of an organized crime dyna...  Francis Ford Coppola   \n",
       "2  The early life and career of Vito Corleone in ...  Francis Ford Coppola   \n",
       "3  When the menace known as the Joker emerges fro...     Christopher Nolan   \n",
       "4  A jury holdout attempts to prevent a miscarria...          Sidney Lumet   \n",
       "\n",
       "                                             writers  \\\n",
       "0  [Stephen King (short story \"Rita Hayworth and ...   \n",
       "1  [Mario Puzo (screenplay), Francis Ford Coppola...   \n",
       "2  [Francis Ford Coppola (screenplay), Mario Puzo...   \n",
       "3  [Jonathan Nolan (screenplay), Christopher Nola...   \n",
       "4  [Reginald Rose (story), Reginald Rose (screenp...   \n",
       "\n",
       "                                           stars  \n",
       "0      [Tim Robbins, Morgan Freeman, Bob Gunton]  \n",
       "1         [Marlon Brando, Al Pacino, James Caan]  \n",
       "2     [Al Pacino, Robert De Niro, Robert Duvall]  \n",
       "3  [Christian Bale, Heath Ledger, Aaron Eckhart]  \n",
       "4      [Henry Fonda, Lee J. Cobb, Martin Balsam]  "
      ]
     },
     "execution_count": 218,
     "metadata": {},
     "output_type": "execute_result"
    }
   ],
   "source": [
    "full_movies_df"
   ]
  },
  {
   "cell_type": "code",
   "execution_count": null,
   "metadata": {
    "collapsed": true
   },
   "outputs": [],
   "source": []
  }
 ],
 "metadata": {
  "anaconda-cloud": {},
  "kernelspec": {
   "display_name": "Python [conda root]",
   "language": "python",
   "name": "conda-root-py"
  },
  "language_info": {
   "codemirror_mode": {
    "name": "ipython",
    "version": 3
   },
   "file_extension": ".py",
   "mimetype": "text/x-python",
   "name": "python",
   "nbconvert_exporter": "python",
   "pygments_lexer": "ipython3",
   "version": "3.5.2"
  }
 },
 "nbformat": 4,
 "nbformat_minor": 2
}
