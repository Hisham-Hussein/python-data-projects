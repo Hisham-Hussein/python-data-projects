{
 "cells": [
  {
   "cell_type": "markdown",
   "metadata": {},
   "source": [
    "# Know More About your Favourite NBA Stars "
   ]
  },
  {
   "cell_type": "markdown",
   "metadata": {},
   "source": [
    "## Introduction"
   ]
  },
  {
   "cell_type": "markdown",
   "metadata": {},
   "source": [
    "This Project invloves scraping players information from the popular nba.com website. In particular:\n",
    "- A list of all players' names, links\n",
    "- for each of these players, get detailed information about the player (obtained from the webpage of the player)\n",
    "- Arrange all this information in a tidy pandas data frame and export it to an Excell (or .CSV) file\n",
    "- Also get a list of all coaches and their teams, and arrange them in a tidy data frame"
   ]
  },
  {
   "cell_type": "code",
   "execution_count": 1,
   "metadata": {
    "collapsed": true
   },
   "outputs": [],
   "source": [
    "from selenium import webdriver\n",
    "from bs4 import BeautifulSoup\n",
    "import os\n",
    "import numpy as np\n",
    "import pandas as pd\n",
    "import re"
   ]
  },
  {
   "cell_type": "code",
   "execution_count": 2,
   "metadata": {
    "collapsed": true
   },
   "outputs": [],
   "source": [
    "proj_dir = r'D:\\Work\\Upwork\\Giselle\\webSrcapingProjs'"
   ]
  },
  {
   "cell_type": "code",
   "execution_count": 3,
   "metadata": {},
   "outputs": [
    {
     "data": {
      "text/plain": [
       "'D:\\\\Work\\\\Upwork\\\\Giselle\\\\webSrcapingProjs'"
      ]
     },
     "execution_count": 3,
     "metadata": {},
     "output_type": "execute_result"
    }
   ],
   "source": [
    "proj_dir"
   ]
  },
  {
   "cell_type": "markdown",
   "metadata": {},
   "source": [
    "## Step (1): Get All NBA player names, links and store them in a pandas DF"
   ]
  },
  {
   "cell_type": "code",
   "execution_count": 80,
   "metadata": {
    "collapsed": true
   },
   "outputs": [],
   "source": [
    "# the class of the html element that contains all player names: row players-wrapper\n",
    "def get_allplayers(url):\n",
    "    \n",
    "    phantomJS_path = os.path.join(proj_dir, r\"phantomjs-2.1.1-windows\\bin\\phantomjs.exe\")\n",
    "    driver = webdriver.PhantomJS(phantomJS_path)\n",
    "    \n",
    "    driver.get(url)\n",
    "\n",
    "    # get the html page source\n",
    "    html_page = driver.page_source\n",
    "\n",
    "    # creat a soup\n",
    "    soup = BeautifulSoup(html_page, 'lxml')\n",
    "\n",
    "    df = list()\n",
    "    for player in soup.find('div', class_='row players-wrapper').find_all('a', class_='row playerList'):\n",
    "        player_name = player.find('span', class_='name-label').get_text()\n",
    "        player_link = 'http://www.nba.com' + player['href']\n",
    "\n",
    "        player_info = [elem.strip() for elem in player_name.split(',')] + [player_link]\n",
    "        df.append(player_info)\n",
    "\n",
    "    players_df = pd.DataFrame(df, columns=['last_name', 'first_name', 'link'])\n",
    "    \n",
    "    # quit the driver\n",
    "    driver.quit()\n",
    "    return players_df\n",
    "\n",
    "players = get_allplayers('http://www.nba.com/players')"
   ]
  },
  {
   "cell_type": "code",
   "execution_count": 81,
   "metadata": {},
   "outputs": [
    {
     "data": {
      "text/html": [
       "<div>\n",
       "<table border=\"1\" class=\"dataframe\">\n",
       "  <thead>\n",
       "    <tr style=\"text-align: right;\">\n",
       "      <th></th>\n",
       "      <th>last_name</th>\n",
       "      <th>first_name</th>\n",
       "      <th>link</th>\n",
       "    </tr>\n",
       "  </thead>\n",
       "  <tbody>\n",
       "    <tr>\n",
       "      <th>0</th>\n",
       "      <td>Abrines</td>\n",
       "      <td>Alex</td>\n",
       "      <td>http://www.nba.com/players/alex/abrines/203518</td>\n",
       "    </tr>\n",
       "    <tr>\n",
       "      <th>1</th>\n",
       "      <td>Acy</td>\n",
       "      <td>Quincy</td>\n",
       "      <td>http://www.nba.com/players/quincy/acy/203112</td>\n",
       "    </tr>\n",
       "    <tr>\n",
       "      <th>2</th>\n",
       "      <td>Adams</td>\n",
       "      <td>Steven</td>\n",
       "      <td>http://www.nba.com/players/steven/adams/203500</td>\n",
       "    </tr>\n",
       "    <tr>\n",
       "      <th>3</th>\n",
       "      <td>Adebayo</td>\n",
       "      <td>Bam</td>\n",
       "      <td>http://www.nba.com/players/bam/adebayo/1628389</td>\n",
       "    </tr>\n",
       "    <tr>\n",
       "      <th>4</th>\n",
       "      <td>Afflalo</td>\n",
       "      <td>Arron</td>\n",
       "      <td>http://www.nba.com/players/arron/afflalo/201167</td>\n",
       "    </tr>\n",
       "    <tr>\n",
       "      <th>5</th>\n",
       "      <td>Ajinca</td>\n",
       "      <td>Alexis</td>\n",
       "      <td>http://www.nba.com/players/alexis/ajinca/201582</td>\n",
       "    </tr>\n",
       "    <tr>\n",
       "      <th>6</th>\n",
       "      <td>Aldrich</td>\n",
       "      <td>Cole</td>\n",
       "      <td>http://www.nba.com/players/cole/aldrich/202332</td>\n",
       "    </tr>\n",
       "    <tr>\n",
       "      <th>7</th>\n",
       "      <td>Aldridge</td>\n",
       "      <td>LaMarcus</td>\n",
       "      <td>http://www.nba.com/players/lamarcus/aldridge/2...</td>\n",
       "    </tr>\n",
       "    <tr>\n",
       "      <th>8</th>\n",
       "      <td>Allen</td>\n",
       "      <td>Jarrett</td>\n",
       "      <td>http://www.nba.com/players/jarrett/allen/1628386</td>\n",
       "    </tr>\n",
       "    <tr>\n",
       "      <th>9</th>\n",
       "      <td>Allen</td>\n",
       "      <td>Kadeem</td>\n",
       "      <td>http://www.nba.com/players/kadeem/allen/1628443</td>\n",
       "    </tr>\n",
       "  </tbody>\n",
       "</table>\n",
       "</div>"
      ],
      "text/plain": [
       "  last_name first_name                                               link\n",
       "0   Abrines       Alex     http://www.nba.com/players/alex/abrines/203518\n",
       "1       Acy     Quincy       http://www.nba.com/players/quincy/acy/203112\n",
       "2     Adams     Steven     http://www.nba.com/players/steven/adams/203500\n",
       "3   Adebayo        Bam     http://www.nba.com/players/bam/adebayo/1628389\n",
       "4   Afflalo      Arron    http://www.nba.com/players/arron/afflalo/201167\n",
       "5    Ajinca     Alexis    http://www.nba.com/players/alexis/ajinca/201582\n",
       "6   Aldrich       Cole     http://www.nba.com/players/cole/aldrich/202332\n",
       "7  Aldridge   LaMarcus  http://www.nba.com/players/lamarcus/aldridge/2...\n",
       "8     Allen    Jarrett   http://www.nba.com/players/jarrett/allen/1628386\n",
       "9     Allen     Kadeem    http://www.nba.com/players/kadeem/allen/1628443"
      ]
     },
     "execution_count": 81,
     "metadata": {},
     "output_type": "execute_result"
    }
   ],
   "source": [
    "players.head(10)"
   ]
  },
  {
   "cell_type": "code",
   "execution_count": 82,
   "metadata": {},
   "outputs": [
    {
     "data": {
      "text/html": [
       "<div>\n",
       "<table border=\"1\" class=\"dataframe\">\n",
       "  <thead>\n",
       "    <tr style=\"text-align: right;\">\n",
       "      <th></th>\n",
       "      <th>last_name</th>\n",
       "      <th>first_name</th>\n",
       "      <th>link</th>\n",
       "    </tr>\n",
       "  </thead>\n",
       "  <tbody>\n",
       "    <tr>\n",
       "      <th>489</th>\n",
       "      <td>Young</td>\n",
       "      <td>Mike</td>\n",
       "      <td>http://www.nba.com/players/mike/young/1628454</td>\n",
       "    </tr>\n",
       "    <tr>\n",
       "      <th>490</th>\n",
       "      <td>Young</td>\n",
       "      <td>Nick</td>\n",
       "      <td>http://www.nba.com/players/nick/young/201156</td>\n",
       "    </tr>\n",
       "    <tr>\n",
       "      <th>491</th>\n",
       "      <td>Young</td>\n",
       "      <td>Thaddeus</td>\n",
       "      <td>http://www.nba.com/players/thaddeus/young/201152</td>\n",
       "    </tr>\n",
       "    <tr>\n",
       "      <th>492</th>\n",
       "      <td>Zagorac</td>\n",
       "      <td>Rade</td>\n",
       "      <td>http://www.nba.com/players/rade/zagorac/1627825</td>\n",
       "    </tr>\n",
       "    <tr>\n",
       "      <th>493</th>\n",
       "      <td>Zeller</td>\n",
       "      <td>Cody</td>\n",
       "      <td>http://www.nba.com/players/cody/zeller/203469</td>\n",
       "    </tr>\n",
       "    <tr>\n",
       "      <th>494</th>\n",
       "      <td>Zhou</td>\n",
       "      <td>Qi</td>\n",
       "      <td>http://www.nba.com/players/qi/zhou/1627753</td>\n",
       "    </tr>\n",
       "    <tr>\n",
       "      <th>495</th>\n",
       "      <td>Zimmerman</td>\n",
       "      <td>Stephen</td>\n",
       "      <td>http://www.nba.com/players/stephen/zimmerman/1...</td>\n",
       "    </tr>\n",
       "    <tr>\n",
       "      <th>496</th>\n",
       "      <td>Zipser</td>\n",
       "      <td>Paul</td>\n",
       "      <td>http://www.nba.com/players/paul/zipser/1627835</td>\n",
       "    </tr>\n",
       "    <tr>\n",
       "      <th>497</th>\n",
       "      <td>Zizic</td>\n",
       "      <td>Ante</td>\n",
       "      <td>http://www.nba.com/players/ante/zizic/1627790</td>\n",
       "    </tr>\n",
       "    <tr>\n",
       "      <th>498</th>\n",
       "      <td>Zubac</td>\n",
       "      <td>Ivica</td>\n",
       "      <td>http://www.nba.com/players/ivica/zubac/1627826</td>\n",
       "    </tr>\n",
       "  </tbody>\n",
       "</table>\n",
       "</div>"
      ],
      "text/plain": [
       "     last_name first_name                                               link\n",
       "489      Young       Mike      http://www.nba.com/players/mike/young/1628454\n",
       "490      Young       Nick       http://www.nba.com/players/nick/young/201156\n",
       "491      Young   Thaddeus   http://www.nba.com/players/thaddeus/young/201152\n",
       "492    Zagorac       Rade    http://www.nba.com/players/rade/zagorac/1627825\n",
       "493     Zeller       Cody      http://www.nba.com/players/cody/zeller/203469\n",
       "494       Zhou         Qi         http://www.nba.com/players/qi/zhou/1627753\n",
       "495  Zimmerman    Stephen  http://www.nba.com/players/stephen/zimmerman/1...\n",
       "496     Zipser       Paul     http://www.nba.com/players/paul/zipser/1627835\n",
       "497      Zizic       Ante      http://www.nba.com/players/ante/zizic/1627790\n",
       "498      Zubac      Ivica     http://www.nba.com/players/ivica/zubac/1627826"
      ]
     },
     "execution_count": 82,
     "metadata": {},
     "output_type": "execute_result"
    }
   ],
   "source": [
    "players.tail(10)"
   ]
  },
  {
   "cell_type": "markdown",
   "metadata": {},
   "source": [
    "## Step (2): Get Detail Information of One player"
   ]
  },
  {
   "cell_type": "code",
   "execution_count": 106,
   "metadata": {
    "collapsed": true
   },
   "outputs": [],
   "source": [
    "# uncomment these following 2 lines if you want to test this function individually\n",
    "#     phantomJS_path = os.path.join(proj_dir, r\"phantomjs-2.1.1-windows\\bin\\phantomjs.exe\")\n",
    "#     driver = webdriver.PhantomJS(phantomJS_path)\n",
    "\n",
    "def get_player_info(player_record, driver):\n",
    "    \n",
    "    driver.get(player_record.loc['link'])\n",
    "\n",
    "    # get the html page source\n",
    "    html_page = driver.page_source\n",
    "    \n",
    "    # creat a soup\n",
    "    soup = BeautifulSoup(html_page, 'lxml')\n",
    "        \n",
    "    # player's height and weight are in special place; they need to be extracted alone\n",
    "    height_weight = soup.find_all('p', class_ = 'nba-player-vitals__top-heading')\n",
    "    \n",
    "    height_tag = height_weight[0]\n",
    "    weight_tag = height_weight[1]\n",
    "\n",
    "    height = ''\n",
    "    for sib in height_tag.find_next_siblings():\n",
    "        height += sib.get_text()\n",
    "    player_record['Height'] = re.sub(r'\\s', '', height)\n",
    "\n",
    "\n",
    "    weight = ''\n",
    "    for sib in weight_tag.find_next_siblings():\n",
    "        weight += sib.get_text()\n",
    "    player_record['Weight'] = re.sub(r'\\s', '', weight)\n",
    "\n",
    "    # the rese of the player's information \n",
    "    headings = soup.find_all('span', class_ = \"nba-player-vitals__bottom-heading\")\n",
    "    infos = soup.find_all('span', class_ = 'nba-player-vitals__bottom-info')\n",
    "    for heading, info in zip(headings, infos):\n",
    "        player_record[heading.text] = re.sub('\\s', ' ', info.text)\n",
    "     \n",
    "    \n",
    "    return player_record\n",
    "\n",
    "\n",
    "# testing\n",
    "#first_player = get_allplayers('http://www.nba.com/players').iloc[0]\n",
    "#get_player_info(first_player)\n",
    "\n",
    "\n",
    "# uncomment the following line also if you want to test this function\n",
    "#driver.quit()"
   ]
  },
  {
   "cell_type": "markdown",
   "metadata": {},
   "source": [
    "## Step (3): Get Detail Information of All players"
   ]
  },
  {
   "cell_type": "code",
   "execution_count": 107,
   "metadata": {
    "collapsed": true
   },
   "outputs": [],
   "source": [
    "def get_all_players_info(players_df):\n",
    "    phantomJS_path = os.path.join(proj_dir, r\"phantomjs-2.1.1-windows\\bin\\phantomjs.exe\")\n",
    "    \n",
    "    driver = webdriver.PhantomJS(phantomJS_path)\n",
    "    \n",
    "    players_df = players_df.apply(lambda x: get_player_info(x, driver), axis='columns')\n",
    "    \n",
    "    driver.quit()\n",
    "    return players_df"
   ]
  },
  {
   "cell_type": "code",
   "execution_count": 154,
   "metadata": {
    "collapsed": true
   },
   "outputs": [],
   "source": [
    "allplayers_info = get_all_players_info(players.iloc[0:5])"
   ]
  },
  {
   "cell_type": "code",
   "execution_count": 155,
   "metadata": {},
   "outputs": [
    {
     "data": {
      "text/html": [
       "<div>\n",
       "<table border=\"1\" class=\"dataframe\">\n",
       "  <thead>\n",
       "    <tr style=\"text-align: right;\">\n",
       "      <th></th>\n",
       "      <th>last_name</th>\n",
       "      <th>first_name</th>\n",
       "      <th>link</th>\n",
       "      <th>Height</th>\n",
       "      <th>Weight</th>\n",
       "      <th>BORN</th>\n",
       "      <th>AGE</th>\n",
       "      <th>FROM</th>\n",
       "      <th>NBA DEBUT</th>\n",
       "      <th>YEARS IN NBA</th>\n",
       "      <th>PREVIOUSLY</th>\n",
       "    </tr>\n",
       "  </thead>\n",
       "  <tbody>\n",
       "    <tr>\n",
       "      <th>0</th>\n",
       "      <td>Abrines</td>\n",
       "      <td>Alex</td>\n",
       "      <td>http://www.nba.com/players/alex/abrines/203518</td>\n",
       "      <td>6ft6in/1.98m</td>\n",
       "      <td>190lbs/86.2kg</td>\n",
       "      <td>08/01/1993</td>\n",
       "      <td>24 years</td>\n",
       "      <td>—</td>\n",
       "      <td>2016</td>\n",
       "      <td>1</td>\n",
       "      <td>OKC 2016-17</td>\n",
       "    </tr>\n",
       "    <tr>\n",
       "      <th>1</th>\n",
       "      <td>Acy</td>\n",
       "      <td>Quincy</td>\n",
       "      <td>http://www.nba.com/players/quincy/acy/203112</td>\n",
       "      <td>6ft7in/2.01m</td>\n",
       "      <td>240lbs/108.9kg</td>\n",
       "      <td>10/06/1990</td>\n",
       "      <td>26 years</td>\n",
       "      <td>Baylor</td>\n",
       "      <td>2012</td>\n",
       "      <td>5</td>\n",
       "      <td>BKN 2016-17DAL 2016-17SAC 2015-16NYK 2014-15SA...</td>\n",
       "    </tr>\n",
       "    <tr>\n",
       "      <th>2</th>\n",
       "      <td>Adams</td>\n",
       "      <td>Steven</td>\n",
       "      <td>http://www.nba.com/players/steven/adams/203500</td>\n",
       "      <td>7ft0in/2.13m</td>\n",
       "      <td>255lbs/115.7kg</td>\n",
       "      <td>07/20/1993</td>\n",
       "      <td>24 years</td>\n",
       "      <td>Pittsburgh</td>\n",
       "      <td>2013</td>\n",
       "      <td>4</td>\n",
       "      <td>OKC 2013-17</td>\n",
       "    </tr>\n",
       "    <tr>\n",
       "      <th>3</th>\n",
       "      <td>Adebayo</td>\n",
       "      <td>Bam</td>\n",
       "      <td>http://www.nba.com/players/bam/adebayo/1628389</td>\n",
       "      <td>6ft10in/2.08m</td>\n",
       "      <td>245lbs/111.1kg</td>\n",
       "      <td>07/18/1997</td>\n",
       "      <td>20 years</td>\n",
       "      <td>Kentucky</td>\n",
       "      <td>—</td>\n",
       "      <td>0</td>\n",
       "      <td>—</td>\n",
       "    </tr>\n",
       "    <tr>\n",
       "      <th>4</th>\n",
       "      <td>Afflalo</td>\n",
       "      <td>Arron</td>\n",
       "      <td>http://www.nba.com/players/arron/afflalo/201167</td>\n",
       "      <td>6ft5in/1.96m</td>\n",
       "      <td>215lbs/97.5kg</td>\n",
       "      <td>10/15/1985</td>\n",
       "      <td>31 years</td>\n",
       "      <td>UCLA</td>\n",
       "      <td>2007</td>\n",
       "      <td>10</td>\n",
       "      <td>SAC 2016-17NYK 2015-16POR 2014-15DEN 2014-15OR...</td>\n",
       "    </tr>\n",
       "  </tbody>\n",
       "</table>\n",
       "</div>"
      ],
      "text/plain": [
       "  last_name first_name                                             link  \\\n",
       "0   Abrines       Alex   http://www.nba.com/players/alex/abrines/203518   \n",
       "1       Acy     Quincy     http://www.nba.com/players/quincy/acy/203112   \n",
       "2     Adams     Steven   http://www.nba.com/players/steven/adams/203500   \n",
       "3   Adebayo        Bam   http://www.nba.com/players/bam/adebayo/1628389   \n",
       "4   Afflalo      Arron  http://www.nba.com/players/arron/afflalo/201167   \n",
       "\n",
       "          Height          Weight  \\\n",
       "0   6ft6in/1.98m   190lbs/86.2kg   \n",
       "1   6ft7in/2.01m  240lbs/108.9kg   \n",
       "2   7ft0in/2.13m  255lbs/115.7kg   \n",
       "3  6ft10in/2.08m  245lbs/111.1kg   \n",
       "4   6ft5in/1.96m   215lbs/97.5kg   \n",
       "\n",
       "                                           BORN  \\\n",
       "0                     08/01/1993                  \n",
       "1                     10/06/1990                  \n",
       "2                     07/20/1993                  \n",
       "3                     07/18/1997                  \n",
       "4                     10/15/1985                  \n",
       "\n",
       "                                          AGE  \\\n",
       "0                     24 years                  \n",
       "1                     26 years                  \n",
       "2                     24 years                  \n",
       "3                     20 years                  \n",
       "4                     31 years                  \n",
       "\n",
       "                                           FROM  \\\n",
       "0                              —                  \n",
       "1                         Baylor                  \n",
       "2                     Pittsburgh                  \n",
       "3                       Kentucky                  \n",
       "4                           UCLA                  \n",
       "\n",
       "                                NBA DEBUT  \\\n",
       "0                     2016                  \n",
       "1                     2012                  \n",
       "2                     2013                  \n",
       "3                        —                  \n",
       "4                     2007                  \n",
       "\n",
       "                           YEARS IN NBA  \\\n",
       "0                      1                  \n",
       "1                      5                  \n",
       "2                      4                  \n",
       "3                      0                  \n",
       "4                     10                  \n",
       "\n",
       "                                          PREVIOUSLY  \n",
       "0                                        OKC 2016-17  \n",
       "1  BKN 2016-17DAL 2016-17SAC 2015-16NYK 2014-15SA...  \n",
       "2                                        OKC 2013-17  \n",
       "3                                   —                 \n",
       "4  SAC 2016-17NYK 2015-16POR 2014-15DEN 2014-15OR...  "
      ]
     },
     "execution_count": 155,
     "metadata": {},
     "output_type": "execute_result"
    }
   ],
   "source": [
    "allplayers_info"
   ]
  },
  {
   "cell_type": "code",
   "execution_count": 164,
   "metadata": {},
   "outputs": [
    {
     "data": {
      "text/plain": [
       "0    1.98\n",
       "1    2.01\n",
       "2    2.13\n",
       "3    2.08\n",
       "4    1.96\n",
       "Name: Height, dtype: float64"
      ]
     },
     "execution_count": 164,
     "metadata": {},
     "output_type": "execute_result"
    }
   ],
   "source": [
    "pd.to_numeric(allplayers_info['Height'].str.extract(r'.*/(\\d\\.\\d+)', expand=False), errors = 'coerce')"
   ]
  },
  {
   "cell_type": "code",
   "execution_count": 167,
   "metadata": {},
   "outputs": [
    {
     "data": {
      "text/plain": [
       "0     86.2\n",
       "1    108.9\n",
       "2    115.7\n",
       "3    111.1\n",
       "4     97.5\n",
       "Name: Weight, dtype: float64"
      ]
     },
     "execution_count": 167,
     "metadata": {},
     "output_type": "execute_result"
    }
   ],
   "source": [
    "pd.to_numeric(allplayers_info['Weight'].str.extract(r'.*/(\\d+\\.\\d+)', expand=False), errors = 'coerce')\n"
   ]
  },
  {
   "cell_type": "code",
   "execution_count": 176,
   "metadata": {},
   "outputs": [
    {
     "data": {
      "text/plain": [
       "0   1993-08-01\n",
       "1   1990-10-06\n",
       "2   1993-07-20\n",
       "3   1997-07-18\n",
       "4   1985-10-15\n",
       "Name: BORN, dtype: datetime64[ns]"
      ]
     },
     "execution_count": 176,
     "metadata": {},
     "output_type": "execute_result"
    }
   ],
   "source": [
    "pd.to_datetime(allplayers_info['BORN'])"
   ]
  },
  {
   "cell_type": "code",
   "execution_count": 177,
   "metadata": {},
   "outputs": [
    {
     "data": {
      "text/plain": [
       "0    24\n",
       "1    26\n",
       "2    24\n",
       "3    20\n",
       "4    31\n",
       "Name: AGE, dtype: int64"
      ]
     },
     "execution_count": 177,
     "metadata": {},
     "output_type": "execute_result"
    }
   ],
   "source": [
    "pd.to_numeric(allplayers_info['AGE'].str.extract(r'(\\d+)', expand=False))"
   ]
  },
  {
   "cell_type": "code",
   "execution_count": 174,
   "metadata": {},
   "outputs": [
    {
     "data": {
      "text/plain": [
       "0                                        [OKC 2016-17]\n",
       "1    [BKN 2016-17, DAL 2016-17, SAC 2015-16, NYK 20...\n",
       "2                                        [OKC 2013-17]\n",
       "3                                                   []\n",
       "4    [SAC 2016-17, NYK 2015-16, POR 2014-15, DEN 20...\n",
       "Name: PREVIOUSLY, dtype: object"
      ]
     },
     "execution_count": 174,
     "metadata": {},
     "output_type": "execute_result"
    }
   ],
   "source": [
    "# some cleaning\n",
    "allplayers_info['PREVIOUSLY'].str.findall(r'\\w+\\s\\d+-\\d+')"
   ]
  },
  {
   "cell_type": "markdown",
   "metadata": {},
   "source": [
    "## Get all coaches and their teams"
   ]
  },
  {
   "cell_type": "code",
   "execution_count": 39,
   "metadata": {
    "collapsed": true
   },
   "outputs": [],
   "source": [
    "def get_allcoaches(url):\n",
    "    \n",
    "    \n",
    "    phantomJS_path = os.path.join(proj_dir, r\"phantomjs-2.1.1-windows\\bin\\phantomjs.exe\")\n",
    "    driver = webdriver.PhantomJS(phantomJS_path)\n",
    "    \n",
    "    driver.get(url)\n",
    "    \n",
    "    html_page = driver.page_source\n",
    "    \n",
    "    soup = BeautifulSoup(html_page, 'lxml')\n",
    "    \n",
    "    required_section = soup.find('div', class_=\"nbaStoryText\")\n",
    "    \n",
    "    df = []\n",
    "    for coach in required_section.find_all('p'):\n",
    "        for a in coach.find_all('a'):\n",
    "            # only focus on links that contains the word (coachf)\n",
    "            if \"coachfile\" in a['href']:\n",
    "                coach_name = a.get_text().strip()\n",
    "                coach_team = a.find_previous_sibling().get_text().replace(':', '').strip()\n",
    "                df.append([coach_name, coach_team])\n",
    "    \n",
    "    driver.quit()\n",
    "    \n",
    "    return pd.DataFrame(df, columns=['coach_name', 'coach_team'])"
   ]
  },
  {
   "cell_type": "code",
   "execution_count": 40,
   "metadata": {},
   "outputs": [
    {
     "data": {
      "text/html": [
       "<div>\n",
       "<table border=\"1\" class=\"dataframe\">\n",
       "  <thead>\n",
       "    <tr style=\"text-align: right;\">\n",
       "      <th></th>\n",
       "      <th>coach_name</th>\n",
       "      <th>coach_team</th>\n",
       "    </tr>\n",
       "  </thead>\n",
       "  <tbody>\n",
       "    <tr>\n",
       "      <th>0</th>\n",
       "      <td>Larry Drew</td>\n",
       "      <td>Atlanta Hawks</td>\n",
       "    </tr>\n",
       "    <tr>\n",
       "      <th>1</th>\n",
       "      <td>Doc Rivers</td>\n",
       "      <td>Boston Celtics</td>\n",
       "    </tr>\n",
       "    <tr>\n",
       "      <th>2</th>\n",
       "      <td>Mike Dunlap</td>\n",
       "      <td>Charlotte Bobcats</td>\n",
       "    </tr>\n",
       "    <tr>\n",
       "      <th>3</th>\n",
       "      <td>Tom Thibodeau</td>\n",
       "      <td>Chicago Bulls</td>\n",
       "    </tr>\n",
       "    <tr>\n",
       "      <th>4</th>\n",
       "      <td>Byron Scott</td>\n",
       "      <td>Cleveland Cavaliers</td>\n",
       "    </tr>\n",
       "    <tr>\n",
       "      <th>5</th>\n",
       "      <td>Lawrence Frank</td>\n",
       "      <td>Detroit Pistons</td>\n",
       "    </tr>\n",
       "    <tr>\n",
       "      <th>6</th>\n",
       "      <td>Frank Vogel</td>\n",
       "      <td>Indiana Pacers</td>\n",
       "    </tr>\n",
       "    <tr>\n",
       "      <th>7</th>\n",
       "      <td>Erik Spoelstra</td>\n",
       "      <td>Miami Heat</td>\n",
       "    </tr>\n",
       "    <tr>\n",
       "      <th>8</th>\n",
       "      <td>Mike Woodson</td>\n",
       "      <td>New York Knicks</td>\n",
       "    </tr>\n",
       "    <tr>\n",
       "      <th>9</th>\n",
       "      <td>Jacque Vaughn</td>\n",
       "      <td>Orlando Magic</td>\n",
       "    </tr>\n",
       "    <tr>\n",
       "      <th>10</th>\n",
       "      <td>Doug Collins</td>\n",
       "      <td>Philadelphia 76ers</td>\n",
       "    </tr>\n",
       "    <tr>\n",
       "      <th>11</th>\n",
       "      <td>Dwane Casey</td>\n",
       "      <td>Toronto Raptors</td>\n",
       "    </tr>\n",
       "    <tr>\n",
       "      <th>12</th>\n",
       "      <td>Randy Wittman</td>\n",
       "      <td>Washington Wizards</td>\n",
       "    </tr>\n",
       "    <tr>\n",
       "      <th>13</th>\n",
       "      <td>Rick Carlisle</td>\n",
       "      <td>Dallas Mavericks</td>\n",
       "    </tr>\n",
       "    <tr>\n",
       "      <th>14</th>\n",
       "      <td>George Karl</td>\n",
       "      <td>Denver Nuggets</td>\n",
       "    </tr>\n",
       "    <tr>\n",
       "      <th>15</th>\n",
       "      <td>Mark Jackson</td>\n",
       "      <td>Golden State Warriors</td>\n",
       "    </tr>\n",
       "    <tr>\n",
       "      <th>16</th>\n",
       "      <td>Kevin McHale</td>\n",
       "      <td>Houston Rockets</td>\n",
       "    </tr>\n",
       "    <tr>\n",
       "      <th>17</th>\n",
       "      <td>Vinny Del Negro</td>\n",
       "      <td>L.A. Clippers</td>\n",
       "    </tr>\n",
       "    <tr>\n",
       "      <th>18</th>\n",
       "      <td>Mike D'Antoni</td>\n",
       "      <td>L.A. Lakers</td>\n",
       "    </tr>\n",
       "    <tr>\n",
       "      <th>19</th>\n",
       "      <td>Lionel Hollins</td>\n",
       "      <td>Memphis Grizzlies</td>\n",
       "    </tr>\n",
       "    <tr>\n",
       "      <th>20</th>\n",
       "      <td>Rick Adelman</td>\n",
       "      <td>Minnesota Timberwolves</td>\n",
       "    </tr>\n",
       "    <tr>\n",
       "      <th>21</th>\n",
       "      <td>Monty Williams</td>\n",
       "      <td>New Orleans Hornets</td>\n",
       "    </tr>\n",
       "    <tr>\n",
       "      <th>22</th>\n",
       "      <td>Scott Brooks</td>\n",
       "      <td>Oklahoma City Thunder</td>\n",
       "    </tr>\n",
       "    <tr>\n",
       "      <th>23</th>\n",
       "      <td>Terry Stotts</td>\n",
       "      <td>Portland Trail Blazers</td>\n",
       "    </tr>\n",
       "    <tr>\n",
       "      <th>24</th>\n",
       "      <td>Keith Smart</td>\n",
       "      <td>Sacramento Kings</td>\n",
       "    </tr>\n",
       "    <tr>\n",
       "      <th>25</th>\n",
       "      <td>Gregg Popovich</td>\n",
       "      <td>San Antonio Spurs</td>\n",
       "    </tr>\n",
       "    <tr>\n",
       "      <th>26</th>\n",
       "      <td>Tyrone Corbin</td>\n",
       "      <td>Utah Jazz</td>\n",
       "    </tr>\n",
       "  </tbody>\n",
       "</table>\n",
       "</div>"
      ],
      "text/plain": [
       "         coach_name              coach_team\n",
       "0        Larry Drew           Atlanta Hawks\n",
       "1        Doc Rivers          Boston Celtics\n",
       "2       Mike Dunlap       Charlotte Bobcats\n",
       "3     Tom Thibodeau           Chicago Bulls\n",
       "4       Byron Scott     Cleveland Cavaliers\n",
       "5    Lawrence Frank         Detroit Pistons\n",
       "6       Frank Vogel          Indiana Pacers\n",
       "7    Erik Spoelstra              Miami Heat\n",
       "8      Mike Woodson         New York Knicks\n",
       "9     Jacque Vaughn           Orlando Magic\n",
       "10     Doug Collins      Philadelphia 76ers\n",
       "11      Dwane Casey         Toronto Raptors\n",
       "12    Randy Wittman      Washington Wizards\n",
       "13    Rick Carlisle        Dallas Mavericks\n",
       "14      George Karl          Denver Nuggets\n",
       "15     Mark Jackson   Golden State Warriors\n",
       "16     Kevin McHale         Houston Rockets\n",
       "17  Vinny Del Negro           L.A. Clippers\n",
       "18    Mike D'Antoni             L.A. Lakers\n",
       "19   Lionel Hollins       Memphis Grizzlies\n",
       "20     Rick Adelman  Minnesota Timberwolves\n",
       "21   Monty Williams     New Orleans Hornets\n",
       "22     Scott Brooks   Oklahoma City Thunder\n",
       "23     Terry Stotts  Portland Trail Blazers\n",
       "24      Keith Smart        Sacramento Kings\n",
       "25   Gregg Popovich       San Antonio Spurs\n",
       "26    Tyrone Corbin               Utah Jazz"
      ]
     },
     "execution_count": 40,
     "metadata": {},
     "output_type": "execute_result"
    }
   ],
   "source": [
    "coaches = get_allcoaches(\"http://www.nba.com/news/transactions/coaches/\")\n",
    "coaches"
   ]
  },
  {
   "cell_type": "code",
   "execution_count": null,
   "metadata": {
    "collapsed": true
   },
   "outputs": [],
   "source": []
  }
 ],
 "metadata": {
  "anaconda-cloud": {},
  "kernelspec": {
   "display_name": "Python [conda root]",
   "language": "python",
   "name": "conda-root-py"
  },
  "language_info": {
   "codemirror_mode": {
    "name": "ipython",
    "version": 3
   },
   "file_extension": ".py",
   "mimetype": "text/x-python",
   "name": "python",
   "nbconvert_exporter": "python",
   "pygments_lexer": "ipython3",
   "version": "3.5.2"
  }
 },
 "nbformat": 4,
 "nbformat_minor": 2
}
